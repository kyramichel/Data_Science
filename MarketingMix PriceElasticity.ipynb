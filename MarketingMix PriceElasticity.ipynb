{
 "cells": [
  {
   "cell_type": "markdown",
   "id": "19e305cf",
   "metadata": {},
   "source": [
    "# Marketing in a Consumer‐Driven World\n",
    "\n",
    "\n",
    "A question that comes up quite often in marketing is how to find the combination of the different **marketing-mix** variables that give the maximized sales, highest, maximized margins, etc.\n",
    "\n",
    "\n",
    "Below I explain how price elasticity of demand can be used to answer such questions. \n"
   ]
  },
  {
   "cell_type": "code",
   "execution_count": 8,
   "id": "d74312c7",
   "metadata": {},
   "outputs": [],
   "source": [
    "#imports\n",
    "\n",
    "import pandas as pd\n",
    "import numpy as np\n",
    "import sklearn\n",
    "import seaborn as sns\n",
    "import matplotlib.pyplot as plt\n",
    "%matplotlib inline\n",
    "plt.style.use(\"fivethirtyeight\")\n",
    "import warnings\n",
    "warnings.filterwarnings('ignore')"
   ]
  },
  {
   "cell_type": "markdown",
   "id": "e4de3461",
   "metadata": {},
   "source": [
    "Below is the sales-price data of a product. As the data shows there is a decline in the overall share of the product market. \n",
    "\n",
    "The company suspected the cause may be competition that are capturing market share with more effective advertising. \n",
    "\n",
    "To sustain sales growth and protect its shares from competition, the company could consider to reduce the price.\n"
   ]
  },
  {
   "cell_type": "code",
   "execution_count": 17,
   "id": "7e1c6bb2",
   "metadata": {},
   "outputs": [
    {
     "data": {
      "text/html": [
       "<div>\n",
       "<style scoped>\n",
       "    .dataframe tbody tr th:only-of-type {\n",
       "        vertical-align: middle;\n",
       "    }\n",
       "\n",
       "    .dataframe tbody tr th {\n",
       "        vertical-align: top;\n",
       "    }\n",
       "\n",
       "    .dataframe thead th {\n",
       "        text-align: right;\n",
       "    }\n",
       "</style>\n",
       "<table border=\"1\" class=\"dataframe\">\n",
       "  <thead>\n",
       "    <tr style=\"text-align: right;\">\n",
       "      <th></th>\n",
       "      <th>date</th>\n",
       "      <th>sales</th>\n",
       "      <th>price</th>\n",
       "    </tr>\n",
       "  </thead>\n",
       "  <tbody>\n",
       "    <tr>\n",
       "      <th>0</th>\n",
       "      <td>2021</td>\n",
       "      <td>402</td>\n",
       "      <td>114</td>\n",
       "    </tr>\n",
       "    <tr>\n",
       "      <th>1</th>\n",
       "      <td>2020</td>\n",
       "      <td>389</td>\n",
       "      <td>110</td>\n",
       "    </tr>\n",
       "    <tr>\n",
       "      <th>2</th>\n",
       "      <td>2019</td>\n",
       "      <td>367</td>\n",
       "      <td>107</td>\n",
       "    </tr>\n",
       "    <tr>\n",
       "      <th>3</th>\n",
       "      <td>2018</td>\n",
       "      <td>350</td>\n",
       "      <td>140</td>\n",
       "    </tr>\n",
       "    <tr>\n",
       "      <th>4</th>\n",
       "      <td>2017</td>\n",
       "      <td>304</td>\n",
       "      <td>142</td>\n",
       "    </tr>\n",
       "    <tr>\n",
       "      <th>5</th>\n",
       "      <td>2016</td>\n",
       "      <td>298</td>\n",
       "      <td>147</td>\n",
       "    </tr>\n",
       "    <tr>\n",
       "      <th>6</th>\n",
       "      <td>2015</td>\n",
       "      <td>268</td>\n",
       "      <td>140</td>\n",
       "    </tr>\n",
       "  </tbody>\n",
       "</table>\n",
       "</div>"
      ],
      "text/plain": [
       "   date  sales  price\n",
       "0  2021    402    114\n",
       "1  2020    389    110\n",
       "2  2019    367    107\n",
       "3  2018    350    140\n",
       "4  2017    304    142\n",
       "5  2016    298    147\n",
       "6  2015    268    140"
      ]
     },
     "execution_count": 17,
     "metadata": {},
     "output_type": "execute_result"
    }
   ],
   "source": [
    "#read data into dataframe\n",
    "df= pd.read_csv(r\"C:/Users/K/Desktop/R/Price/price1.csv\")\n",
    "df"
   ]
  },
  {
   "cell_type": "code",
   "execution_count": 18,
   "id": "f595d56c",
   "metadata": {},
   "outputs": [
    {
     "data": {
      "text/plain": [
       "Index(['date', 'sales', 'price'], dtype='object')"
      ]
     },
     "execution_count": 18,
     "metadata": {},
     "output_type": "execute_result"
    }
   ],
   "source": [
    "df.columns"
   ]
  },
  {
   "cell_type": "markdown",
   "id": "ca39b938",
   "metadata": {},
   "source": [
    "\n",
    "### Demand function\n",
    "\n",
    "Economists traditionally put demand on x-axis and price on y-xis.\n",
    "\n",
    "The graphs shows a linear model - \n",
    "\n",
    "the slope of demand function = change in price/change in quantity of demanded is negative.\n",
    "\n",
    "To understand this, first: a linear demand function assumes that the effect of a unit price increase has the same effect on demand (a dollar increase in price has the same effect when the price is 1 dollar and when the price is 100 dollars). \n",
    "More @ https://youtu.be/HqMV8kojIdQ\n"
   ]
  },
  {
   "cell_type": "code",
   "execution_count": 9,
   "id": "407acaa6",
   "metadata": {},
   "outputs": [
    {
     "data": {
      "image/png": "[encoded data removed]",
      "text/plain": [
       "<Figure size 360x360 with 1 Axes>"
      ]
     },
     "metadata": {},
     "output_type": "display_data"
    }
   ],
   "source": [
    "sns.lmplot(x='sales', y='price', data=df)\n",
    "plt.show()"
   ]
  },
  {
   "cell_type": "markdown",
   "id": "84017ac3",
   "metadata": {},
   "source": [
    "\n",
    "### Price = one of the most critical variables \n",
    "\n",
    "that marketers have difficulties with.\n",
    "\n",
    "### Law of the demand:\n",
    "\n",
    "as the price change there is a change in demand; consumers tend to buy more of a product as its price goes down. If the price increases there is likely chance that the demand will fall. A demand function may be reasonably approximate as linear for small price changes, however a linear demand function is unrealistic in other situations.\n",
    "\n",
    "\n",
    "A good's price elasticity shows the responsiveness of the quantity demanded of it to a change in its price.\n",
    "\n",
    "\n",
    "####  Price of goods, rather: Price of Related goods: \n",
    "\n",
    "\n",
    "\n",
    "\n",
    "Price elasticity of a good = ratio of percentage change in quantity demanded and percentage change in price\n",
    "\n",
    "\n",
    "PED = $\\frac{\\mathrm{d} S}{S}\\times \\frac{P}{\\mathrm{d} P}$ \n",
    "\n",
    "#### % (relative) change is defined:\n",
    "\n",
    "$\\text{%change in sales} = \\frac{\\Delta S}{S1} = \\frac{S2-S1}{S1}\\times100$\n",
    "\n",
    "#### and\n",
    "\n",
    "$\\text{%change in sales} = \\frac{\\Delta S}{S1} = \\frac{S2-S1}{S1}\\times100$\n",
    "\n",
    "\n",
    "\n",
    "If we take logarithms we get a **log-linear relationship**: $\\rm{Log}(Sales) =\\beta_{0}  + {\\beta_1}\\times\\rm{Log}(Price) + \\varepsilon$\n",
    "\n",
    "The slope coefficient **${\\beta_1}$ is the price elasticity** .\n",
    "\n",
    "We apply regression on the historical data:"
   ]
  },
  {
   "cell_type": "code",
   "execution_count": 36,
   "id": "5f9dac48",
   "metadata": {},
   "outputs": [
    {
     "data": {
      "text/html": [
       "<div>\n",
       "<style scoped>\n",
       "    .dataframe tbody tr th:only-of-type {\n",
       "        vertical-align: middle;\n",
       "    }\n",
       "\n",
       "    .dataframe tbody tr th {\n",
       "        vertical-align: top;\n",
       "    }\n",
       "\n",
       "    .dataframe thead th {\n",
       "        text-align: right;\n",
       "    }\n",
       "</style>\n",
       "<table border=\"1\" class=\"dataframe\">\n",
       "  <thead>\n",
       "    <tr style=\"text-align: right;\">\n",
       "      <th></th>\n",
       "      <th>log(sales)</th>\n",
       "      <th>log(price)</th>\n",
       "    </tr>\n",
       "  </thead>\n",
       "  <tbody>\n",
       "    <tr>\n",
       "      <th>0</th>\n",
       "      <td>5.996452</td>\n",
       "      <td>4.736198</td>\n",
       "    </tr>\n",
       "    <tr>\n",
       "      <th>1</th>\n",
       "      <td>5.963579</td>\n",
       "      <td>4.700480</td>\n",
       "    </tr>\n",
       "    <tr>\n",
       "      <th>2</th>\n",
       "      <td>5.905362</td>\n",
       "      <td>4.672829</td>\n",
       "    </tr>\n",
       "    <tr>\n",
       "      <th>3</th>\n",
       "      <td>5.857933</td>\n",
       "      <td>4.941642</td>\n",
       "    </tr>\n",
       "    <tr>\n",
       "      <th>4</th>\n",
       "      <td>5.717028</td>\n",
       "      <td>4.955827</td>\n",
       "    </tr>\n",
       "    <tr>\n",
       "      <th>5</th>\n",
       "      <td>5.697093</td>\n",
       "      <td>4.990433</td>\n",
       "    </tr>\n",
       "    <tr>\n",
       "      <th>6</th>\n",
       "      <td>5.590987</td>\n",
       "      <td>4.941642</td>\n",
       "    </tr>\n",
       "  </tbody>\n",
       "</table>\n",
       "</div>"
      ],
      "text/plain": [
       "   log(sales)  log(price)\n",
       "0    5.996452    4.736198\n",
       "1    5.963579    4.700480\n",
       "2    5.905362    4.672829\n",
       "3    5.857933    4.941642\n",
       "4    5.717028    4.955827\n",
       "5    5.697093    4.990433\n",
       "6    5.590987    4.941642"
      ]
     },
     "execution_count": 36,
     "metadata": {},
     "output_type": "execute_result"
    }
   ],
   "source": [
    "df2= pd.read_csv(r\"C:/Users/K/Desktop/R/Price/price2.csv\")\n",
    "df2 = df2[[\"log(sales)\", \"log(price)\"]]\n",
    "df2"
   ]
  },
  {
   "cell_type": "code",
   "execution_count": 39,
   "id": "14a27804",
   "metadata": {},
   "outputs": [],
   "source": [
    "import scipy.stats\n",
    "\n",
    "x = df2['log(price)'].values\n",
    "y = df2['log(sales)'].values"
   ]
  },
  {
   "cell_type": "code",
   "execution_count": 40,
   "id": "68b433cc",
   "metadata": {},
   "outputs": [],
   "source": [
    "# Estimate the optimal(least square) slope and intercept\n",
    "\n",
    "beta_1 = (scipy.stats.pearsonr(x,y)[0])*(np.std(y)/np.std(x))\n",
    "beta_0 = np.mean(y)-(beta_1*np.mean(x))"
   ]
  },
  {
   "cell_type": "code",
   "execution_count": 41,
   "id": "fb6a6b53",
   "metadata": {},
   "outputs": [
    {
     "name": "stdout",
     "output_type": "stream",
     "text": [
      " Y-intercept: 10.156573048301237 Slope: -0.894767968510473\n"
     ]
    }
   ],
   "source": [
    "print(\" Y-intercept:\", beta_0, \"Slope:\", beta_1)"
   ]
  },
  {
   "cell_type": "markdown",
   "id": "e122d149",
   "metadata": {},
   "source": [
    "### Interpretion \n",
    "\n",
    "The slope coefficient **${\\beta_1}$** is the price elasticity = -0.894. That is, a price increase of 1% can result in 0.894% sales increase for the product.\n",
    "\n",
    "\n",
    "Since the price elasticity for the product is high it means its customers are price sensitive. Thus, by reducing the price could have a positive effect on demand. \n",
    "\n"
   ]
  }
 ],
 "metadata": {
  "kernelspec": {
   "display_name": "Python 3",
   "language": "python",
   "name": "python3"
  },
  "language_info": {
   "codemirror_mode": {
    "name": "ipython",
    "version": 3
   },
   "file_extension": ".py",
   "mimetype": "text/x-python",
   "name": "python",
   "nbconvert_exporter": "python",
   "pygments_lexer": "ipython3",
   "version": "3.9.1"
  }
 },
 "nbformat": 4,
 "nbformat_minor": 5
}
