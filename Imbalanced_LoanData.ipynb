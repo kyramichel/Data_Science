{
 "cells": [
  {
   "cell_type": "markdown",
   "metadata": {},
   "source": [
    "## Imbalanced data for risk detection \n",
    "\n",
    "\n",
    "Imbalanced data refers to a classification problem where the number of observations per class is not equally distributed, one class represent majority of the dataset and the other minority class.\n",
    "\n",
    "Imbalanced datasets abound in the real-world. Example: predicting credit card fraud or intrusion in networks detection where the risk events are less than 1% (rare).\n",
    "\n",
    "Most machine learning algorithms do not work very well with imbalanced datasets for risk detection.\n",
    "\n",
    "We will consider a simple example that will help understand some of the unique challenges related to imbalanced datasets in building machine learning models to identify risk patterns and other forms of deception.\n",
    "\n",
    "\n",
    "Outline the choice of:\n",
    "\n",
    "- evaluation metrics\n",
    "- sampling technique\n",
    "- ensemble learning: XGBoost or Random forests Classifier\n",
    "\n",
    "We use as imbalanced data, loans data from Lending Club\n",
    "\n",
    "Most loans are paid off. \n",
    "Output (target) variable: bad_loans: 1 (loan was charged off or the lessee defaulted) and 0 otherwise.\n",
    "\n"
   ]
  },
  {
   "cell_type": "code",
   "execution_count": 103,
   "metadata": {},
   "outputs": [],
   "source": [
    "import numpy as np\n",
    "import pandas as pd\n",
    "from sklearn.ensemble import RandomForestClassifier\n",
    "from sklearn.model_selection import train_test_split\n",
    "from sklearn.metrics import recall_score\n",
    "\n",
    "# For oversampling Library (Dealing with Imbalanced Datasets)\n",
    "from imblearn.over_sampling import SMOTE\n",
    "from collections import Counter\n",
    "\n",
    "\n",
    "from sklearn.metrics import confusion_matrix, accuracy_score\n",
    "\n",
    "import seaborn as sns\n",
    "import matplotlib.pyplot as plt\n",
    "%matplotlib inline\n",
    "plt.style.use(\"fivethirtyeight\")\n",
    "import warnings\n",
    "warnings.filterwarnings('ignore')\n"
   ]
  },
  {
   "cell_type": "markdown",
   "metadata": {},
   "source": [
    "### Load the data"
   ]
  },
  {
   "cell_type": "code",
   "execution_count": 22,
   "metadata": {},
   "outputs": [
    {
     "data": {
      "text/html": [
       "<div>\n",
       "<style scoped>\n",
       "    .dataframe tbody tr th:only-of-type {\n",
       "        vertical-align: middle;\n",
       "    }\n",
       "\n",
       "    .dataframe tbody tr th {\n",
       "        vertical-align: top;\n",
       "    }\n",
       "\n",
       "    .dataframe thead th {\n",
       "        text-align: right;\n",
       "    }\n",
       "</style>\n",
       "<table border=\"1\" class=\"dataframe\">\n",
       "  <thead>\n",
       "    <tr style=\"text-align: right;\">\n",
       "      <th></th>\n",
       "      <th>Unnamed: 0</th>\n",
       "      <th>id</th>\n",
       "      <th>member_id</th>\n",
       "      <th>loan_amnt</th>\n",
       "      <th>funded_amnt</th>\n",
       "      <th>funded_amnt_inv</th>\n",
       "      <th>term</th>\n",
       "      <th>int_rate</th>\n",
       "      <th>installment</th>\n",
       "      <th>grade</th>\n",
       "      <th>...</th>\n",
       "      <th>sub_grade_num</th>\n",
       "      <th>delinq_2yrs_zero</th>\n",
       "      <th>pub_rec_zero</th>\n",
       "      <th>collections_12_mths_zero</th>\n",
       "      <th>short_emp</th>\n",
       "      <th>payment_inc_ratio</th>\n",
       "      <th>final_d</th>\n",
       "      <th>last_delinq_none</th>\n",
       "      <th>last_record_none</th>\n",
       "      <th>last_major_derog_none</th>\n",
       "    </tr>\n",
       "  </thead>\n",
       "  <tbody>\n",
       "    <tr>\n",
       "      <th>50738</th>\n",
       "      <td>50738</td>\n",
       "      <td>6904966</td>\n",
       "      <td>8547084</td>\n",
       "      <td>24000</td>\n",
       "      <td>24000</td>\n",
       "      <td>24000</td>\n",
       "      <td>36 months</td>\n",
       "      <td>11.55</td>\n",
       "      <td>792.00</td>\n",
       "      <td>B</td>\n",
       "      <td>...</td>\n",
       "      <td>0.6</td>\n",
       "      <td>1.0</td>\n",
       "      <td>1.0</td>\n",
       "      <td>1.0</td>\n",
       "      <td>0</td>\n",
       "      <td>7.04000</td>\n",
       "      <td>20160901T000000</td>\n",
       "      <td>1</td>\n",
       "      <td>1</td>\n",
       "      <td>1</td>\n",
       "    </tr>\n",
       "    <tr>\n",
       "      <th>50739</th>\n",
       "      <td>50739</td>\n",
       "      <td>6905934</td>\n",
       "      <td>8547992</td>\n",
       "      <td>6000</td>\n",
       "      <td>6000</td>\n",
       "      <td>6000</td>\n",
       "      <td>36 months</td>\n",
       "      <td>24.08</td>\n",
       "      <td>235.65</td>\n",
       "      <td>F</td>\n",
       "      <td>...</td>\n",
       "      <td>0.4</td>\n",
       "      <td>0.0</td>\n",
       "      <td>1.0</td>\n",
       "      <td>1.0</td>\n",
       "      <td>0</td>\n",
       "      <td>2.45896</td>\n",
       "      <td>20160801T000000</td>\n",
       "      <td>0</td>\n",
       "      <td>1</td>\n",
       "      <td>0</td>\n",
       "    </tr>\n",
       "    <tr>\n",
       "      <th>50740</th>\n",
       "      <td>50740</td>\n",
       "      <td>6906006</td>\n",
       "      <td>8548063</td>\n",
       "      <td>11000</td>\n",
       "      <td>11000</td>\n",
       "      <td>11000</td>\n",
       "      <td>36 months</td>\n",
       "      <td>11.55</td>\n",
       "      <td>363.00</td>\n",
       "      <td>B</td>\n",
       "      <td>...</td>\n",
       "      <td>0.6</td>\n",
       "      <td>1.0</td>\n",
       "      <td>1.0</td>\n",
       "      <td>1.0</td>\n",
       "      <td>0</td>\n",
       "      <td>5.12471</td>\n",
       "      <td>20160801T000000</td>\n",
       "      <td>1</td>\n",
       "      <td>1</td>\n",
       "      <td>1</td>\n",
       "    </tr>\n",
       "    <tr>\n",
       "      <th>50741</th>\n",
       "      <td>50741</td>\n",
       "      <td>6915061</td>\n",
       "      <td>8557157</td>\n",
       "      <td>18825</td>\n",
       "      <td>18825</td>\n",
       "      <td>18825</td>\n",
       "      <td>36 months</td>\n",
       "      <td>16.78</td>\n",
       "      <td>669.11</td>\n",
       "      <td>C</td>\n",
       "      <td>...</td>\n",
       "      <td>1.0</td>\n",
       "      <td>1.0</td>\n",
       "      <td>1.0</td>\n",
       "      <td>1.0</td>\n",
       "      <td>0</td>\n",
       "      <td>18.67280</td>\n",
       "      <td>20160901T000000</td>\n",
       "      <td>1</td>\n",
       "      <td>1</td>\n",
       "      <td>1</td>\n",
       "    </tr>\n",
       "    <tr>\n",
       "      <th>50742</th>\n",
       "      <td>50742</td>\n",
       "      <td>6896033</td>\n",
       "      <td>8538061</td>\n",
       "      <td>8675</td>\n",
       "      <td>8675</td>\n",
       "      <td>8675</td>\n",
       "      <td>36 months</td>\n",
       "      <td>16.78</td>\n",
       "      <td>308.34</td>\n",
       "      <td>C</td>\n",
       "      <td>...</td>\n",
       "      <td>1.0</td>\n",
       "      <td>1.0</td>\n",
       "      <td>0.0</td>\n",
       "      <td>1.0</td>\n",
       "      <td>0</td>\n",
       "      <td>14.56610</td>\n",
       "      <td>20160901T000000</td>\n",
       "      <td>1</td>\n",
       "      <td>0</td>\n",
       "      <td>1</td>\n",
       "    </tr>\n",
       "  </tbody>\n",
       "</table>\n",
       "<p>5 rows × 69 columns</p>\n",
       "</div>"
      ],
      "text/plain": [
       "       Unnamed: 0       id  member_id  loan_amnt  funded_amnt  \\\n",
       "50738       50738  6904966    8547084      24000        24000   \n",
       "50739       50739  6905934    8547992       6000         6000   \n",
       "50740       50740  6906006    8548063      11000        11000   \n",
       "50741       50741  6915061    8557157      18825        18825   \n",
       "50742       50742  6896033    8538061       8675         8675   \n",
       "\n",
       "       funded_amnt_inv        term  int_rate  installment grade  ...  \\\n",
       "50738            24000   36 months     11.55       792.00     B  ...   \n",
       "50739             6000   36 months     24.08       235.65     F  ...   \n",
       "50740            11000   36 months     11.55       363.00     B  ...   \n",
       "50741            18825   36 months     16.78       669.11     C  ...   \n",
       "50742             8675   36 months     16.78       308.34     C  ...   \n",
       "\n",
       "      sub_grade_num delinq_2yrs_zero pub_rec_zero collections_12_mths_zero  \\\n",
       "50738           0.6              1.0          1.0                      1.0   \n",
       "50739           0.4              0.0          1.0                      1.0   \n",
       "50740           0.6              1.0          1.0                      1.0   \n",
       "50741           1.0              1.0          1.0                      1.0   \n",
       "50742           1.0              1.0          0.0                      1.0   \n",
       "\n",
       "       short_emp payment_inc_ratio          final_d last_delinq_none  \\\n",
       "50738          0           7.04000  20160901T000000                1   \n",
       "50739          0           2.45896  20160801T000000                0   \n",
       "50740          0           5.12471  20160801T000000                1   \n",
       "50741          0          18.67280  20160901T000000                1   \n",
       "50742          0          14.56610  20160901T000000                1   \n",
       "\n",
       "      last_record_none last_major_derog_none  \n",
       "50738                1                     1  \n",
       "50739                1                     0  \n",
       "50740                1                     1  \n",
       "50741                1                     1  \n",
       "50742                0                     1  \n",
       "\n",
       "[5 rows x 69 columns]"
      ]
     },
     "execution_count": 22,
     "metadata": {},
     "output_type": "execute_result"
    }
   ],
   "source": [
    "loans = pd.read_csv('C:/Users/uknow/Desktop/loan2.csv')\n",
    "\n",
    "loans.tail()"
   ]
  },
  {
   "cell_type": "markdown",
   "metadata": {},
   "source": [
    "### Explore some features"
   ]
  },
  {
   "cell_type": "code",
   "execution_count": 23,
   "metadata": {},
   "outputs": [
    {
     "data": {
      "text/plain": [
       "Index(['Unnamed: 0', 'id', 'member_id', 'loan_amnt', 'funded_amnt',\n",
       "       'funded_amnt_inv', 'term', 'int_rate', 'installment', 'grade',\n",
       "       'sub_grade', 'emp_title', 'emp_length', 'home_ownership', 'annual_inc',\n",
       "       'is_inc_v', 'issue_d', 'loan_status', 'pymnt_plan', 'url', 'desc',\n",
       "       'purpose', 'title', 'zip_code', 'addr_state', 'dti', 'delinq_2yrs',\n",
       "       'earliest_cr_line', 'inq_last_6mths', 'mths_since_last_delinq',\n",
       "       'mths_since_last_record', 'open_acc', 'pub_rec', 'revol_bal',\n",
       "       'revol_util', 'total_acc', 'initial_list_status', 'out_prncp',\n",
       "       'out_prncp_inv', 'total_pymnt', 'total_pymnt_inv', 'total_rec_prncp',\n",
       "       'total_rec_int', 'total_rec_late_fee', 'recoveries',\n",
       "       'collection_recovery_fee', 'last_pymnt_d', 'last_pymnt_amnt',\n",
       "       'next_pymnt_d', 'last_credit_pull_d', 'collections_12_mths_ex_med',\n",
       "       'mths_since_last_major_derog', 'policy_code', 'not_compliant', 'status',\n",
       "       'inactive_loans', 'bad_loans', 'emp_length_num', 'grade_num',\n",
       "       'sub_grade_num', 'delinq_2yrs_zero', 'pub_rec_zero',\n",
       "       'collections_12_mths_zero', 'short_emp', 'payment_inc_ratio', 'final_d',\n",
       "       'last_delinq_none', 'last_record_none', 'last_major_derog_none'],\n",
       "      dtype='object')"
      ]
     },
     "execution_count": 23,
     "metadata": {},
     "output_type": "execute_result"
    }
   ],
   "source": [
    "loans.columns"
   ]
  },
  {
   "cell_type": "code",
   "execution_count": 24,
   "metadata": {},
   "outputs": [
    {
     "data": {
      "text/plain": [
       "Unnamed: 0                                                                     0\n",
       "id                                                                       1077501\n",
       "member_id                                                                1296599\n",
       "loan_amnt                                                                   5000\n",
       "funded_amnt                                                                 5000\n",
       "funded_amnt_inv                                                             4975\n",
       "term                                                                   36 months\n",
       "int_rate                                                                   10.65\n",
       "installment                                                               162.87\n",
       "grade                                                                          B\n",
       "sub_grade                                                                     B2\n",
       "emp_title                                                                    NaN\n",
       "emp_length                                                             10+ years\n",
       "home_ownership                                                              RENT\n",
       "annual_inc                                                                 24000\n",
       "is_inc_v                                                                Verified\n",
       "issue_d                                                          20111201T000000\n",
       "loan_status                                                           Fully Paid\n",
       "pymnt_plan                                                                     n\n",
       "url                            https://www.lendingclub.com/browse/loanDetail....\n",
       "desc                             Borrower added on 12/22/11 > I need to upgra...\n",
       "purpose                                                              credit_card\n",
       "title                                                                   Computer\n",
       "zip_code                                                                   860xx\n",
       "addr_state                                                                    AZ\n",
       "dti                                                                        27.65\n",
       "delinq_2yrs                                                                    0\n",
       "earliest_cr_line                                                 19850101T000000\n",
       "inq_last_6mths                                                                 1\n",
       "mths_since_last_delinq                                                       NaN\n",
       "                                                     ...                        \n",
       "total_pymnt                                                              5861.07\n",
       "total_pymnt_inv                                                          5831.78\n",
       "total_rec_prncp                                                             5000\n",
       "total_rec_int                                                             861.07\n",
       "total_rec_late_fee                                                             0\n",
       "recoveries                                                                     0\n",
       "collection_recovery_fee                                                        0\n",
       "last_pymnt_d                                                     20150101T000000\n",
       "last_pymnt_amnt                                                           171.62\n",
       "next_pymnt_d                                                                 NaN\n",
       "last_credit_pull_d                                               20150101T000000\n",
       "collections_12_mths_ex_med                                                     0\n",
       "mths_since_last_major_derog                                                  NaN\n",
       "policy_code                                                                    1\n",
       "not_compliant                                                                  0\n",
       "status                                                                Fully Paid\n",
       "inactive_loans                                                                 1\n",
       "bad_loans                                                                      0\n",
       "emp_length_num                                                                11\n",
       "grade_num                                                                      5\n",
       "sub_grade_num                                                                0.4\n",
       "delinq_2yrs_zero                                                               1\n",
       "pub_rec_zero                                                                   1\n",
       "collections_12_mths_zero                                                       1\n",
       "short_emp                                                                      0\n",
       "payment_inc_ratio                                                         8.1435\n",
       "final_d                                                          20141201T000000\n",
       "last_delinq_none                                                               1\n",
       "last_record_none                                                               1\n",
       "last_major_derog_none                                                          1\n",
       "Name: 0, Length: 69, dtype: object"
      ]
     },
     "execution_count": 24,
     "metadata": {},
     "output_type": "execute_result"
    }
   ],
   "source": [
    "# features:\n",
    "loans.iloc[0]"
   ]
  },
  {
   "cell_type": "code",
   "execution_count": 25,
   "metadata": {},
   "outputs": [
    {
     "data": {
      "text/plain": [
       "(50743, 69)"
      ]
     },
     "execution_count": 25,
     "metadata": {},
     "output_type": "execute_result"
    }
   ],
   "source": [
    "loans.shape"
   ]
  },
  {
   "cell_type": "code",
   "execution_count": 26,
   "metadata": {},
   "outputs": [
    {
     "data": {
      "text/plain": [
       "0            RENT\n",
       "1            RENT\n",
       "2            RENT\n",
       "3            RENT\n",
       "4            RENT\n",
       "5            RENT\n",
       "6             OWN\n",
       "7            RENT\n",
       "8             OWN\n",
       "9             OWN\n",
       "10           RENT\n",
       "11           RENT\n",
       "12           RENT\n",
       "13           RENT\n",
       "14           RENT\n",
       "15       MORTGAGE\n",
       "16       MORTGAGE\n",
       "17           RENT\n",
       "18           RENT\n",
       "19            OWN\n",
       "20           RENT\n",
       "21           RENT\n",
       "22       MORTGAGE\n",
       "23           RENT\n",
       "24           RENT\n",
       "25       MORTGAGE\n",
       "26           RENT\n",
       "27       MORTGAGE\n",
       "28       MORTGAGE\n",
       "29           RENT\n",
       "           ...   \n",
       "50713    MORTGAGE\n",
       "50714        RENT\n",
       "50715        RENT\n",
       "50716    MORTGAGE\n",
       "50717    MORTGAGE\n",
       "50718    MORTGAGE\n",
       "50719    MORTGAGE\n",
       "50720         OWN\n",
       "50721    MORTGAGE\n",
       "50722        RENT\n",
       "50723        RENT\n",
       "50724    MORTGAGE\n",
       "50725    MORTGAGE\n",
       "50726        RENT\n",
       "50727         OWN\n",
       "50728    MORTGAGE\n",
       "50729    MORTGAGE\n",
       "50730    MORTGAGE\n",
       "50731         OWN\n",
       "50732        RENT\n",
       "50733        RENT\n",
       "50734    MORTGAGE\n",
       "50735    MORTGAGE\n",
       "50736    MORTGAGE\n",
       "50737    MORTGAGE\n",
       "50738        RENT\n",
       "50739        RENT\n",
       "50740    MORTGAGE\n",
       "50741    MORTGAGE\n",
       "50742        RENT\n",
       "Name: home_ownership, Length: 50743, dtype: object"
      ]
     },
     "execution_count": 26,
     "metadata": {},
     "output_type": "execute_result"
    }
   ],
   "source": [
    "loans['home_ownership']"
   ]
  },
  {
   "cell_type": "markdown",
   "metadata": {},
   "source": [
    "### Explore the distribution of the column bad_loans"
   ]
  },
  {
   "cell_type": "code",
   "execution_count": 27,
   "metadata": {},
   "outputs": [
    {
     "data": {
      "text/plain": [
       "0    42325\n",
       "1     8418\n",
       "Name: bad_loans, dtype: int64"
      ]
     },
     "execution_count": 27,
     "metadata": {},
     "output_type": "execute_result"
    }
   ],
   "source": [
    "loans.bad_loans.value_counts()"
   ]
  },
  {
   "cell_type": "code",
   "execution_count": 28,
   "metadata": {},
   "outputs": [],
   "source": [
    "loans = loans[~loans.payment_inc_ratio.isnull()]"
   ]
  },
  {
   "cell_type": "markdown",
   "metadata": {},
   "source": [
    "### Feature selection \n",
    "\n",
    "using a subset of features for the classification algorithm"
   ]
  },
  {
   "cell_type": "code",
   "execution_count": 29,
   "metadata": {},
   "outputs": [],
   "source": [
    "\n",
    "model_variables = ['grade', 'home_ownership','emp_length_num', 'sub_grade','short_emp',\n",
    "            'dti', 'term', 'purpose', 'int_rate', 'last_delinq_none', 'last_major_derog_none',\n",
    "            'revol_util', 'total_rec_late_fee', 'payment_inc_ratio', 'bad_loans']\n",
    "\n",
    "loans_data_relevent = loans[model_variables]"
   ]
  },
  {
   "cell_type": "code",
   "execution_count": 30,
   "metadata": {},
   "outputs": [],
   "source": [
    "loans_relevant_enconded = pd.get_dummies(loans_data_relevent)"
   ]
  },
  {
   "cell_type": "code",
   "execution_count": 31,
   "metadata": {},
   "outputs": [],
   "source": [
    "training_features, test_features, \\\n",
    "training_target, test_target, = train_test_split(loans_relevant_enconded.drop(['bad_loans'], axis=1),\n",
    "                                               loans_relevant_enconded['bad_loans'],\n",
    "                                               test_size = .1,\n",
    "                                               random_state=12)"
   ]
  },
  {
   "cell_type": "markdown",
   "metadata": {},
   "source": [
    "### Resample the training set\n",
    "\n",
    "#### Over-sampling\n",
    "\n",
    "Oversampling tries to balance dataset by increasing the size of rare samples. New rare samples are generated by using SMOTE \n",
    "\n",
    "SMOTE(Synthetic Minority Over-Sampling Technique) is an oversampling algorithm that relies on the concept of nearest neighbors to create its synthetic data.\n",
    "\n",
    "Oversample only the training data, so none of the information in the validation data are  used to create synthetic observations."
   ]
  },
  {
   "cell_type": "code",
   "execution_count": 33,
   "metadata": {},
   "outputs": [],
   "source": [
    "x_train, x_val, y_train, y_val = train_test_split(training_features, training_target,\n",
    "                                                  test_size = .1,\n",
    "                                                  random_state=12)"
   ]
  },
  {
   "cell_type": "code",
   "execution_count": 34,
   "metadata": {},
   "outputs": [],
   "source": [
    "sm = SMOTE(random_state=12, ratio = 1.0)\n",
    "x_train_res, y_train_res = sm.fit_sample(x_train, y_train)"
   ]
  },
  {
   "cell_type": "markdown",
   "metadata": {},
   "source": [
    "### Build a Random Forest classifier"
   ]
  },
  {
   "cell_type": "code",
   "execution_count": 51,
   "metadata": {},
   "outputs": [
    {
     "data": {
      "text/plain": [
       "RandomForestClassifier(bootstrap=True, ccp_alpha=0.0, class_weight=None,\n",
       "                       criterion='gini', max_depth=None, max_features='auto',\n",
       "                       max_leaf_nodes=None, max_samples=None,\n",
       "                       min_impurity_decrease=0.0, min_impurity_split=None,\n",
       "                       min_samples_leaf=1, min_samples_split=2,\n",
       "                       min_weight_fraction_leaf=0.0, n_estimators=25,\n",
       "                       n_jobs=None, oob_score=False, random_state=12, verbose=0,\n",
       "                       warm_start=False)"
      ]
     },
     "execution_count": 51,
     "metadata": {},
     "output_type": "execute_result"
    }
   ],
   "source": [
    "rf = RandomForestClassifier(n_estimators=25, random_state=12)\n",
    "rf.fit(x_train_res, y_train_res)"
   ]
  },
  {
   "cell_type": "code",
   "execution_count": 52,
   "metadata": {},
   "outputs": [
    {
     "data": {
      "text/plain": [
       "array([0.03992866, 0.00746543, 0.06581897, 0.07290858, 0.050041  ,\n",
       "       0.0070018 , 0.06482734, 0.01917981, 0.06571771, 0.02086042,\n",
       "       0.01936511, 0.02210716, 0.03838506, 0.01277534, 0.00645334,\n",
       "       0.00128952, 0.04693943, 0.00048213, 0.0122958 , 0.05439946,\n",
       "       0.00092985, 0.00227116, 0.00218933, 0.0041764 , 0.00946774,\n",
       "       0.00583736, 0.00629839, 0.01341714, 0.00968797, 0.00768973,\n",
       "       0.00767839, 0.00653448, 0.00732547, 0.00424021, 0.00465881,\n",
       "       0.00740389, 0.00623926, 0.00736257, 0.00457321, 0.00352546,\n",
       "       0.00245484, 0.00173584, 0.00214417, 0.00174463, 0.00138867,\n",
       "       0.00161682, 0.0010767 , 0.00107546, 0.00063436, 0.00081056,\n",
       "       0.00045505, 0.00037515, 0.00028669, 0.0003426 , 0.00029952,\n",
       "       0.05191662, 0.05705597, 0.00291123, 0.02136387, 0.05492115,\n",
       "       0.00837549, 0.0010081 , 0.00443686, 0.00214672, 0.00219954,\n",
       "       0.01447906, 0.01041723, 0.00100959, 0.00156864])"
      ]
     },
     "execution_count": 52,
     "metadata": {},
     "output_type": "execute_result"
    }
   ],
   "source": [
    "rf.feature_importances_"
   ]
  },
  {
   "cell_type": "code",
   "execution_count": 54,
   "metadata": {},
   "outputs": [
    {
     "data": {
      "text/plain": [
       "array([[0.88, 0.12],\n",
       "       [0.16, 0.84],\n",
       "       [1.  , 0.  ],\n",
       "       ...,\n",
       "       [0.  , 1.  ],\n",
       "       [0.04, 0.96],\n",
       "       [0.  , 1.  ]])"
      ]
     },
     "execution_count": 54,
     "metadata": {},
     "output_type": "execute_result"
    }
   ],
   "source": [
    "rf.predict_proba(x_train_res)"
   ]
  },
  {
   "cell_type": "code",
   "execution_count": 93,
   "metadata": {},
   "outputs": [
    {
     "name": "stdout",
     "output_type": "stream",
     "text": [
      "100.0\n"
     ]
    }
   ],
   "source": [
    "#Accuracy\n",
    "\n",
    "rfpred = rf.predict(x_train_res)\n",
    "print(round(accuracy_score(y_train_res, rfpred),2)*100)"
   ]
  },
  {
   "cell_type": "markdown",
   "metadata": {},
   "source": [
    "If accuracy is used to measure the goodness of a model, our model which classifies all testing samples into “0” will has accuracy (100%). But, this metrics does not provide any valuable information for us."
   ]
  },
  {
   "cell_type": "markdown",
   "metadata": {},
   "source": [
    "### Use the right evaluation metrics\n",
    "\n",
    "Applying appropriate evaluation metrics for model generated using imbalanced data such as:\n",
    "\n",
    "- Precision: how many selected instances are relevant.\n",
    "- Recall/Sensitivity: how many relevant instances are selected.\n",
    "- F1 score: harmonic mean of precision and recall.\n",
    "- AUC: relation between true-positive rate and false positive rate.\n"
   ]
  },
  {
   "cell_type": "code",
   "execution_count": 91,
   "metadata": {},
   "outputs": [
    {
     "name": "stdout",
     "output_type": "stream",
     "text": [
      "[[34248     1]\n",
      " [  116 34133]]\n"
     ]
    }
   ],
   "source": [
    "rfpred = rf.predict(x_train_res)\n",
    "print(confusion_matrix(y_train_res, rfpred ))"
   ]
  },
  {
   "cell_type": "code",
   "execution_count": 55,
   "metadata": {},
   "outputs": [
    {
     "data": {
      "text/plain": [
       "0.8327129406612656"
      ]
     },
     "execution_count": 55,
     "metadata": {},
     "output_type": "execute_result"
    }
   ],
   "source": [
    "rf.score(x_val, y_val)"
   ]
  },
  {
   "cell_type": "code",
   "execution_count": 73,
   "metadata": {},
   "outputs": [
    {
     "data": {
      "text/plain": [
       "0.13451086956521738"
      ]
     },
     "execution_count": 73,
     "metadata": {},
     "output_type": "execute_result"
    }
   ],
   "source": [
    "recall_score(y_val, rf.predict(x_val))"
   ]
  },
  {
   "cell_type": "code",
   "execution_count": 74,
   "metadata": {},
   "outputs": [
    {
     "data": {
      "text/plain": [
       "0.8259755616870319"
      ]
     },
     "execution_count": 74,
     "metadata": {},
     "output_type": "execute_result"
    }
   ],
   "source": [
    "rf.score(test_features, test_target)"
   ]
  },
  {
   "cell_type": "code",
   "execution_count": 75,
   "metadata": {},
   "outputs": [
    {
     "data": {
      "text/plain": [
       "0.12484993997599039"
      ]
     },
     "execution_count": 75,
     "metadata": {},
     "output_type": "execute_result"
    }
   ],
   "source": [
    "recall_score(test_target, rf.predict(test_features))"
   ]
  },
  {
   "cell_type": "markdown",
   "metadata": {},
   "source": [
    "### Build a XBoost  classifier"
   ]
  },
  {
   "cell_type": "code",
   "execution_count": 48,
   "metadata": {},
   "outputs": [],
   "source": [
    "#Sklearn version of gradient boost (xgboost)\n",
    "from sklearn.ensemble import GradientBoostingClassifier"
   ]
  },
  {
   "cell_type": "code",
   "execution_count": 49,
   "metadata": {},
   "outputs": [
    {
     "data": {
      "text/plain": [
       "GradientBoostingClassifier(ccp_alpha=0.0, criterion='friedman_mse', init=None,\n",
       "                           learning_rate=0.1, loss='deviance', max_depth=3,\n",
       "                           max_features=None, max_leaf_nodes=None,\n",
       "                           min_impurity_decrease=0.0, min_impurity_split=None,\n",
       "                           min_samples_leaf=1, min_samples_split=2,\n",
       "                           min_weight_fraction_leaf=0.0, n_estimators=100,\n",
       "                           n_iter_no_change=None, presort='deprecated',\n",
       "                           random_state=None, subsample=1.0, tol=0.0001,\n",
       "                           validation_fraction=0.1, verbose=0,\n",
       "                           warm_start=False)"
      ]
     },
     "execution_count": 49,
     "metadata": {},
     "output_type": "execute_result"
    }
   ],
   "source": [
    "gbk = GradientBoostingClassifier()\n",
    "gbk.fit(x_train_res, y_train_res)"
   ]
  },
  {
   "cell_type": "code",
   "execution_count": 94,
   "metadata": {},
   "outputs": [
    {
     "name": "stdout",
     "output_type": "stream",
     "text": [
      "89.0\n"
     ]
    }
   ],
   "source": [
    "gbkpred = gbk.predict(x_train_res)\n",
    "\n",
    "#Accuracy_score:\n",
    "print(round(accuracy_score(y_train_res, gbkpred),2)*100)\n"
   ]
  },
  {
   "cell_type": "markdown",
   "metadata": {},
   "source": [
    "###  Validation results"
   ]
  },
  {
   "cell_type": "code",
   "execution_count": 79,
   "metadata": {},
   "outputs": [
    {
     "name": "stdout",
     "output_type": "stream",
     "text": [
      "[[33477   772]\n",
      " [ 6778 27471]]\n"
     ]
    }
   ],
   "source": [
    "#Confussion matrix\n",
    "\n",
    "print(confusion_matrix(y_train_res, gbkpred ))"
   ]
  },
  {
   "cell_type": "code",
   "execution_count": 98,
   "metadata": {},
   "outputs": [
    {
     "data": {
      "text/plain": [
       "0.8390628421283118"
      ]
     },
     "execution_count": 98,
     "metadata": {},
     "output_type": "execute_result"
    }
   ],
   "source": [
    "gbk.score(x_val, y_val)"
   ]
  },
  {
   "cell_type": "code",
   "execution_count": 99,
   "metadata": {},
   "outputs": [
    {
     "data": {
      "text/plain": [
       "0.12635869565217392"
      ]
     },
     "execution_count": 99,
     "metadata": {},
     "output_type": "execute_result"
    }
   ],
   "source": [
    "recall_score(y_val, gbk.predict(x_val))"
   ]
  },
  {
   "cell_type": "code",
   "execution_count": 84,
   "metadata": {},
   "outputs": [
    {
     "data": {
      "text/plain": [
       "0.8332676389436342"
      ]
     },
     "execution_count": 84,
     "metadata": {},
     "output_type": "execute_result"
    }
   ],
   "source": [
    "gbk.score(test_features, test_target)"
   ]
  },
  {
   "cell_type": "code",
   "execution_count": 86,
   "metadata": {},
   "outputs": [
    {
     "data": {
      "text/plain": [
       "0.10684273709483794"
      ]
     },
     "execution_count": 86,
     "metadata": {},
     "output_type": "execute_result"
    }
   ],
   "source": [
    "recall_score(test_target, gbk.predict(test_features))"
   ]
  },
  {
   "cell_type": "markdown",
   "metadata": {},
   "source": [
    "### Interpretation\n",
    "\n",
    "\n",
    "Random forests and Gradient Boost are great because they reduce overfitting\n",
    "\n",
    "In our case, the validation results closely match the unseen test data."
   ]
  }
 ],
 "metadata": {
  "kernelspec": {
   "display_name": "Python 3",
   "language": "python",
   "name": "python3"
  },
  "language_info": {
   "codemirror_mode": {
    "name": "ipython",
    "version": 3
   },
   "file_extension": ".py",
   "mimetype": "text/x-python",
   "name": "python",
   "nbconvert_exporter": "python",
   "pygments_lexer": "ipython3",
   "version": "3.7.3"
  }
 },
 "nbformat": 4,
 "nbformat_minor": 2
}
