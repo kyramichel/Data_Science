{
 "cells": [
  {
   "cell_type": "markdown",
   "metadata": {},
   "source": [
    "## Ensemble Learning - Combining Different ML algorithms\n",
    "\n",
    "\n",
    "\n",
    "This notebook will look at the most popular and widely used techniques for ensemble learning.\n",
    "\n",
    "\n",
    "Data \n",
    "\n",
    "Data Source available at: http://archive.ics.uci.edu/ml/datasets/Bank+Marketing# \n",
    "\n",
    "This data is related with a bank marketing campaign (phone calls).\n",
    "\n",
    "The bank's business goal is to attract new clients to open a Certificate of Deposit i.e., to predict if a prospect will open a CD.\n",
    "\n",
    "\n",
    "\n",
    "- We've cleaned the data and performed EDA.\n",
    "\n",
    "\n",
    "Loading the data:\n"
   ]
  },
  {
   "cell_type": "code",
   "execution_count": 54,
   "metadata": {},
   "outputs": [
    {
     "data": {
      "text/html": [
       "<div>\n",
       "<style scoped>\n",
       "    .dataframe tbody tr th:only-of-type {\n",
       "        vertical-align: middle;\n",
       "    }\n",
       "\n",
       "    .dataframe tbody tr th {\n",
       "        vertical-align: top;\n",
       "    }\n",
       "\n",
       "    .dataframe thead th {\n",
       "        text-align: right;\n",
       "    }\n",
       "</style>\n",
       "<table border=\"1\" class=\"dataframe\">\n",
       "  <thead>\n",
       "    <tr style=\"text-align: right;\">\n",
       "      <th></th>\n",
       "      <th>age</th>\n",
       "      <th>job</th>\n",
       "      <th>marital</th>\n",
       "      <th>education</th>\n",
       "      <th>default</th>\n",
       "      <th>housing</th>\n",
       "      <th>loan</th>\n",
       "      <th>contact</th>\n",
       "      <th>month</th>\n",
       "      <th>day_of_week</th>\n",
       "      <th>...</th>\n",
       "      <th>emp.var.rate</th>\n",
       "      <th>cons.price.idx</th>\n",
       "      <th>cons.conf.idx</th>\n",
       "      <th>euribor3m</th>\n",
       "      <th>nr.employed</th>\n",
       "      <th>campaign</th>\n",
       "      <th>pdays</th>\n",
       "      <th>previous</th>\n",
       "      <th>poutcome</th>\n",
       "      <th>['y']_yes</th>\n",
       "    </tr>\n",
       "  </thead>\n",
       "  <tbody>\n",
       "    <tr>\n",
       "      <th>41183</th>\n",
       "      <td>1</td>\n",
       "      <td>5</td>\n",
       "      <td>1</td>\n",
       "      <td>5</td>\n",
       "      <td>0</td>\n",
       "      <td>2</td>\n",
       "      <td>0</td>\n",
       "      <td>0</td>\n",
       "      <td>7</td>\n",
       "      <td>0</td>\n",
       "      <td>...</td>\n",
       "      <td>-1.1</td>\n",
       "      <td>94.767</td>\n",
       "      <td>-50.8</td>\n",
       "      <td>1.028</td>\n",
       "      <td>4963.6</td>\n",
       "      <td>1</td>\n",
       "      <td>999</td>\n",
       "      <td>0</td>\n",
       "      <td>1</td>\n",
       "      <td>1</td>\n",
       "    </tr>\n",
       "    <tr>\n",
       "      <th>41184</th>\n",
       "      <td>1</td>\n",
       "      <td>1</td>\n",
       "      <td>1</td>\n",
       "      <td>5</td>\n",
       "      <td>0</td>\n",
       "      <td>0</td>\n",
       "      <td>0</td>\n",
       "      <td>0</td>\n",
       "      <td>7</td>\n",
       "      <td>0</td>\n",
       "      <td>...</td>\n",
       "      <td>-1.1</td>\n",
       "      <td>94.767</td>\n",
       "      <td>-50.8</td>\n",
       "      <td>1.028</td>\n",
       "      <td>4963.6</td>\n",
       "      <td>1</td>\n",
       "      <td>999</td>\n",
       "      <td>0</td>\n",
       "      <td>1</td>\n",
       "      <td>0</td>\n",
       "    </tr>\n",
       "    <tr>\n",
       "      <th>41185</th>\n",
       "      <td>1</td>\n",
       "      <td>5</td>\n",
       "      <td>1</td>\n",
       "      <td>6</td>\n",
       "      <td>0</td>\n",
       "      <td>2</td>\n",
       "      <td>0</td>\n",
       "      <td>0</td>\n",
       "      <td>7</td>\n",
       "      <td>0</td>\n",
       "      <td>...</td>\n",
       "      <td>-1.1</td>\n",
       "      <td>94.767</td>\n",
       "      <td>-50.8</td>\n",
       "      <td>1.028</td>\n",
       "      <td>4963.6</td>\n",
       "      <td>2</td>\n",
       "      <td>999</td>\n",
       "      <td>0</td>\n",
       "      <td>1</td>\n",
       "      <td>0</td>\n",
       "    </tr>\n",
       "    <tr>\n",
       "      <th>41186</th>\n",
       "      <td>1</td>\n",
       "      <td>9</td>\n",
       "      <td>1</td>\n",
       "      <td>5</td>\n",
       "      <td>0</td>\n",
       "      <td>0</td>\n",
       "      <td>0</td>\n",
       "      <td>0</td>\n",
       "      <td>7</td>\n",
       "      <td>0</td>\n",
       "      <td>...</td>\n",
       "      <td>-1.1</td>\n",
       "      <td>94.767</td>\n",
       "      <td>-50.8</td>\n",
       "      <td>1.028</td>\n",
       "      <td>4963.6</td>\n",
       "      <td>1</td>\n",
       "      <td>999</td>\n",
       "      <td>0</td>\n",
       "      <td>1</td>\n",
       "      <td>1</td>\n",
       "    </tr>\n",
       "    <tr>\n",
       "      <th>41187</th>\n",
       "      <td>1</td>\n",
       "      <td>5</td>\n",
       "      <td>1</td>\n",
       "      <td>5</td>\n",
       "      <td>0</td>\n",
       "      <td>2</td>\n",
       "      <td>0</td>\n",
       "      <td>0</td>\n",
       "      <td>7</td>\n",
       "      <td>0</td>\n",
       "      <td>...</td>\n",
       "      <td>-1.1</td>\n",
       "      <td>94.767</td>\n",
       "      <td>-50.8</td>\n",
       "      <td>1.028</td>\n",
       "      <td>4963.6</td>\n",
       "      <td>3</td>\n",
       "      <td>999</td>\n",
       "      <td>1</td>\n",
       "      <td>2</td>\n",
       "      <td>0</td>\n",
       "    </tr>\n",
       "  </tbody>\n",
       "</table>\n",
       "<p>5 rows × 21 columns</p>\n",
       "</div>"
      ],
      "text/plain": [
       "       age  job  marital  education  default  housing  loan  contact  month  \\\n",
       "41183    1    5        1          5        0        2     0        0      7   \n",
       "41184    1    1        1          5        0        0     0        0      7   \n",
       "41185    1    5        1          6        0        2     0        0      7   \n",
       "41186    1    9        1          5        0        0     0        0      7   \n",
       "41187    1    5        1          5        0        2     0        0      7   \n",
       "\n",
       "       day_of_week  ...  emp.var.rate  cons.price.idx  cons.conf.idx  \\\n",
       "41183            0  ...          -1.1          94.767          -50.8   \n",
       "41184            0  ...          -1.1          94.767          -50.8   \n",
       "41185            0  ...          -1.1          94.767          -50.8   \n",
       "41186            0  ...          -1.1          94.767          -50.8   \n",
       "41187            0  ...          -1.1          94.767          -50.8   \n",
       "\n",
       "       euribor3m  nr.employed  campaign  pdays  previous  poutcome  ['y']_yes  \n",
       "41183      1.028       4963.6         1    999         0         1          1  \n",
       "41184      1.028       4963.6         1    999         0         1          0  \n",
       "41185      1.028       4963.6         2    999         0         1          0  \n",
       "41186      1.028       4963.6         1    999         0         1          1  \n",
       "41187      1.028       4963.6         3    999         1         2          0  \n",
       "\n",
       "[5 rows x 21 columns]"
      ]
     },
     "execution_count": 54,
     "metadata": {},
     "output_type": "execute_result"
    }
   ],
   "source": [
    "#imports\n",
    "\n",
    "import pandas as pd\n",
    "import numpy as np\n",
    "from sklearn import metrics\n",
    "from sklearn.metrics import roc_auc_score\n",
    "from sklearn.metrics import accuracy_score\n",
    "import seaborn as sns\n",
    "import matplotlib.pyplot as plt\n",
    "%matplotlib inline\n",
    "plt.style.use(\"fivethirtyeight\")\n",
    "import warnings\n",
    "warnings.filterwarnings('ignore')\n",
    "\n",
    "\n",
    "df= pd.read_csv('C:/Users/uknow/Desktop/bank_final2.csv')\n",
    "\n",
    "df.tail()"
   ]
  },
  {
   "cell_type": "code",
   "execution_count": 6,
   "metadata": {},
   "outputs": [
    {
     "data": {
      "text/plain": [
       "(41188, 21)"
      ]
     },
     "execution_count": 6,
     "metadata": {},
     "output_type": "execute_result"
    }
   ],
   "source": [
    "#There are 41188 observations and 21 columns\n",
    "df.shape"
   ]
  },
  {
   "cell_type": "code",
   "execution_count": 5,
   "metadata": {},
   "outputs": [
    {
     "data": {
      "text/plain": [
       "age                 int64\n",
       "job                 int64\n",
       "marital             int64\n",
       "education           int64\n",
       "default             int64\n",
       "housing             int64\n",
       "loan                int64\n",
       "contact             int64\n",
       "month               int64\n",
       "day_of_week         int64\n",
       "duration            int64\n",
       "emp.var.rate      float64\n",
       "cons.price.idx    float64\n",
       "cons.conf.idx     float64\n",
       "euribor3m         float64\n",
       "nr.employed       float64\n",
       "campaign            int64\n",
       "pdays               int64\n",
       "previous            int64\n",
       "poutcome            int64\n",
       "['y']_yes           int64\n",
       "dtype: object"
      ]
     },
     "execution_count": 5,
     "metadata": {},
     "output_type": "execute_result"
    }
   ],
   "source": [
    "df.dtypes"
   ]
  },
  {
   "cell_type": "code",
   "execution_count": 11,
   "metadata": {},
   "outputs": [
    {
     "data": {
      "text/plain": [
       "Index(['age', 'job', 'marital', 'education', 'default', 'housing', 'loan',\n",
       "       'contact', 'month', 'day_of_week', 'duration', 'emp.var.rate',\n",
       "       'cons.price.idx', 'cons.conf.idx', 'euribor3m', 'nr.employed',\n",
       "       'campaign', 'pdays', 'previous', 'poutcome', '['y']_yes'],\n",
       "      dtype='object')"
      ]
     },
     "execution_count": 11,
     "metadata": {},
     "output_type": "execute_result"
    }
   ],
   "source": [
    "df.columns"
   ]
  },
  {
   "cell_type": "code",
   "execution_count": 14,
   "metadata": {},
   "outputs": [],
   "source": [
    "df.rename(columns = {\"['y']_yes\":'y'}, inplace = True) "
   ]
  },
  {
   "cell_type": "code",
   "execution_count": 15,
   "metadata": {},
   "outputs": [],
   "source": [
    "X= pd.read_csv('C:/Users/uknow/Desktop/bank_final.csv')"
   ]
  },
  {
   "cell_type": "markdown",
   "metadata": {},
   "source": [
    "## train_test_split: 80/20"
   ]
  },
  {
   "cell_type": "code",
   "execution_count": 16,
   "metadata": {},
   "outputs": [],
   "source": [
    "from sklearn.model_selection import train_test_split\n",
    "X_train, X_test, y_train, y_test = train_test_split(X, df.y, test_size=0.2, random_state=2019)"
   ]
  },
  {
   "cell_type": "code",
   "execution_count": 17,
   "metadata": {},
   "outputs": [
    {
     "name": "stdout",
     "output_type": "stream",
     "text": [
      "(32950, 20) (32950,)\n",
      "(8238, 20) (8238,)\n"
     ]
    }
   ],
   "source": [
    "print(X_train.shape, y_train.shape)\n",
    "print(X_test.shape, y_test.shape)"
   ]
  },
  {
   "cell_type": "markdown",
   "metadata": {},
   "source": [
    "### Majority Vote Classifier\n",
    "\n",
    "Using the training dataset we  will train 3 different classifiers: \n",
    "logistic regression, decision tree and KNN. \n",
    "\n",
    "First we look at their individual performances via a k=10 fold cross-validation on the training dataset. \n",
    "\n",
    "Then we combine them into an ensemble classifier\n"
   ]
  },
  {
   "cell_type": "code",
   "execution_count": 23,
   "metadata": {},
   "outputs": [],
   "source": [
    "from sklearn.model_selection import cross_val_score\n",
    "from sklearn.linear_model import LogisticRegression\n",
    "from sklearn.tree import DecisionTreeClassifier\n",
    "from sklearn.neighbors import KNeighborsClassifier"
   ]
  },
  {
   "cell_type": "markdown",
   "metadata": {},
   "source": [
    "Logistic Regression and KNN algorithms require feature scaling\n",
    "for optimal performance"
   ]
  },
  {
   "cell_type": "code",
   "execution_count": 24,
   "metadata": {},
   "outputs": [],
   "source": [
    "from sklearn.preprocessing import StandardScaler\n",
    "sc = StandardScaler()\n",
    "X_train_std = sc.fit_transform(X_train)\n",
    "X_test_std = sc.transform(X_test)"
   ]
  },
  {
   "cell_type": "markdown",
   "metadata": {},
   "source": [
    "For consistency, we will train the logistic regression and KNN as part of a pipeline and build 3 models:"
   ]
  },
  {
   "cell_type": "code",
   "execution_count": 25,
   "metadata": {},
   "outputs": [],
   "source": [
    "from sklearn.pipeline import Pipeline"
   ]
  },
  {
   "cell_type": "code",
   "execution_count": 33,
   "metadata": {},
   "outputs": [],
   "source": [
    "lreg = LogisticRegression(penalty='l2', C=0.001,random_state=0)\n",
    "model_tree = DecisionTreeClassifier(max_depth=1, criterion='entropy', random_state=0)\n",
    "knn = KNeighborsClassifier(n_neighbors=1, p=2,metric='minkowski')\n",
    "model_reg = Pipeline([['sc', StandardScaler()], ['model', lreg]])\n",
    "model_knn = Pipeline([['sc', StandardScaler()], ['model', knn]])\n",
    "\n",
    "model_names = ['Logistic Regression', 'Decision Tree', 'KNN']\n",
    "\n"
   ]
  },
  {
   "cell_type": "markdown",
   "metadata": {},
   "source": [
    "## k = 10 fold cross-validation\n",
    "\n",
    "shows that predictive performance of each individual model is almost the same:"
   ]
  },
  {
   "cell_type": "code",
   "execution_count": 34,
   "metadata": {},
   "outputs": [
    {
     "name": "stdout",
     "output_type": "stream",
     "text": [
      "ROC AUC: 0.92 (+/- 0.01)  - Logistic Regression \n",
      "ROC AUC: 0.70 (+/- 0.01)  - Decision Tree \n",
      "ROC AUC: 0.69 (+/- 0.01)  - KNN \n"
     ]
    }
   ],
   "source": [
    "for model, name in zip([model_reg, model_tree, model_knn], model_names):\n",
    "    scores = cross_val_score(estimator = model, X=X_train, y=y_train, cv=10, scoring='roc_auc')\n",
    "    print(\"ROC AUC: %0.2f (+/- %0.2f)  - %s \"% (scores.mean(), scores.std(), name))\n",
    "    "
   ]
  },
  {
   "cell_type": "markdown",
   "metadata": {},
   "source": [
    "## Combining the individual classifiers into an ensemble classifier: Majority Voting\n"
   ]
  },
  {
   "cell_type": "code",
   "execution_count": 45,
   "metadata": {},
   "outputs": [],
   "source": [
    "from sklearn.ensemble import VotingClassifier\n",
    "\n",
    "# default=hard - predicts class labels for majority rule voting\n",
    "ens =  VotingClassifier(estimators=[('lr', model_reg), ('tree', model_tree), ('knn', model_knn)], voting='hard')\n",
    "                          "
   ]
  },
  {
   "cell_type": "code",
   "execution_count": 48,
   "metadata": {},
   "outputs": [
    {
     "data": {
      "text/plain": [
       "array([[0, 0, 0],\n",
       "       [0, 0, 0],\n",
       "       [0, 0, 1],\n",
       "       ...,\n",
       "       [0, 0, 0],\n",
       "       [0, 0, 0],\n",
       "       [0, 0, 1]], dtype=int64)"
      ]
     },
     "execution_count": 48,
     "metadata": {},
     "output_type": "execute_result"
    }
   ],
   "source": [
    "ens.fit_transform(X_train, y_train)"
   ]
  },
  {
   "cell_type": "code",
   "execution_count": 90,
   "metadata": {},
   "outputs": [
    {
     "name": "stdout",
     "output_type": "stream",
     "text": [
      "R2: 0.91 (train)  0.91 (test) - Logistic Regression \n",
      "R2: 0.89 (train)  0.88 (test) - Decision Tree \n",
      "R2: 1.00 (train)  0.88 (test) - KNN \n",
      "R2: 0.92 (train)  0.90 (test) - Majority Voting \n"
     ]
    }
   ],
   "source": [
    "for model, name in zip([model_reg, model_tree, model_knn, ens], model_names):\n",
    "    model.fit(X_train, y_train)\n",
    "    model.predict(X_test)\n",
    "    print(\"R2: %0.2f (train)  %0.2f (test) - %s \"% (model.score(X_train, y_train), model.score(X_test, y_test), name))"
   ]
  },
  {
   "cell_type": "markdown",
   "metadata": {},
   "source": [
    "### Accuracy:\n",
    "\n",
    "**Accuracy score** is the proportion of correct classifications\n",
    "\n",
    "\n",
    "\"The advantage of using a **cross-validation estimator** over the canonical estimator class along with grid search is that they can take advantage of warm-starting by reusing precomputed results in the previous steps of the cross-validation process. This generally leads to speed improvements.\" (scikit-learn.org)"
   ]
  },
  {
   "cell_type": "markdown",
   "metadata": {},
   "source": [
    "Based on the traditional academic point system:\n",
    "\n",
    ".90-1 = excellent (A)\n",
    "\n",
    ".80-.90 = good (B)\n",
    "\n",
    ".70-.80 = fair (C)\n",
    "\n",
    ".60-.70 = poor (D)\n",
    "\n",
    ".50-.60 = fail (F)\n",
    "\n",
    "\n",
    "The performance of the combined model using Majority Voting is excellent, a slight improvement over the individual KNN and Decision Tree classifiers in the 10-fold cross-validation evaluation"
   ]
  },
  {
   "cell_type": "code",
   "execution_count": 82,
   "metadata": {},
   "outputs": [
    {
     "name": "stdout",
     "output_type": "stream",
     "text": [
      "Accuracy: 0.90 - Logistic Regression \n",
      "Accuracy: 0.88 - Decision Tree \n",
      "Accuracy: 0.88 - KNN \n",
      "Accuracy: 0.90 - Majority Voting \n"
     ]
    }
   ],
   "source": [
    "model_names += ['Majority Voting']\n",
    "\n",
    "for model, name in zip([model_reg, model_tree, model_knn, ens], model_names):\n",
    "    scores = cross_val_score(estimator = model, X=X_test, y=y_test, cv=10, scoring='accuracy')\n",
    "   \n",
    "    print(\"Accuracy: %0.2f - %s \"% (scores.mean(), name))\n",
    "    "
   ]
  },
  {
   "cell_type": "markdown",
   "metadata": {},
   "source": [
    "## Bagging is another ensemble of classifiers \n",
    "\n",
    "uses bootstrap samples\n",
    "\n",
    "Here we use an unpruned decision tree as the base classifier. Then create an ensemble of n_estimators=500 decision trees fitted on different bootstrap samples of the training dataset:\n"
   ]
  },
  {
   "cell_type": "code",
   "execution_count": 104,
   "metadata": {},
   "outputs": [],
   "source": [
    "from sklearn.ensemble import BaggingClassifier\n",
    "\n",
    "model_tree2 = DecisionTreeClassifier(max_depth=None, criterion='entropy')\n",
    "\n",
    "bag = BaggingClassifier(base_estimator=model_tree2, n_estimators=500, max_samples=1.0, max_features=1.0, bootstrap=True, bootstrap_features=False, n_jobs=1,random_state=1)"
   ]
  },
  {
   "cell_type": "markdown",
   "metadata": {},
   "source": [
    "#### Accuracy\n",
    "\n",
    "- Compute accuracy score of the prediction on the training and test dataset\n",
    "\n",
    "- Compare the performance of the bagging classifier to the performance of a single unpruned decision tree:"
   ]
  },
  {
   "cell_type": "code",
   "execution_count": 116,
   "metadata": {},
   "outputs": [
    {
     "name": "stdout",
     "output_type": "stream",
     "text": [
      "0.9047098810390871\n"
     ]
    }
   ],
   "source": [
    "bag = bag.fit(X_train, y_train)\n",
    "\n",
    "y_test_pred = bag.predict(X_test)\n",
    "\n",
    "#Accuracy:\n",
    "\n",
    "bag_score = accuracy_score(y_test, y_test_pred).mean()\n",
    "print(bag_score)"
   ]
  },
  {
   "cell_type": "code",
   "execution_count": 117,
   "metadata": {},
   "outputs": [
    {
     "name": "stdout",
     "output_type": "stream",
     "text": [
      "0.8868657441126487\n"
     ]
    }
   ],
   "source": [
    "tree = model_tree2.fit(X_train, y_train)\n",
    "y_test_pred = tree.predict(X_test)\n",
    "\n",
    "#Accuracy:\n",
    "tree_score = accuracy_score(y_test, y_test_pred).mean()\n",
    "print(tree_score)"
   ]
  },
  {
   "cell_type": "code",
   "execution_count": 118,
   "metadata": {},
   "outputs": [
    {
     "name": "stdout",
     "output_type": "stream",
     "text": [
      "0.8871625586419805\n"
     ]
    }
   ],
   "source": [
    "score = (cross_val_score(model_tree2, X_train, y_train, cv=10, n_jobs=1, scoring = 'accuracy').mean())\n",
    "print(score)"
   ]
  },
  {
   "cell_type": "markdown",
   "metadata": {},
   "source": [
    "##  Boosting is another ensemble learning technique \n",
    "\n",
    "In contrast to bagging, boosting algorithms use random subsets of training samples drawn from the training dataset without replacement. \n",
    "\n",
    "\n",
    "In boosting, the ensemble consists of very simple base classifiers (weak learners). A typical example is a decision tree.\n",
    "\n",
    "\"Boosting focuses on training samples that are hard ie, to let the weak learners subsequently learn from misclassified training samples to improve the performance of the ensemble.\"\n",
    "\n",
    "\n",
    "### Gradient Boosting\n",
    "\n",
    "\" Gradient Boosting builds an additive model in a forward stage-wise fashion; it allows for the optimization of arbitrary differentiable loss functions. In each stage n_classes_ regression trees are fit on the negative gradient of the binomial or multinomial deviance loss function...\""
   ]
  },
  {
   "cell_type": "code",
   "execution_count": 98,
   "metadata": {},
   "outputs": [],
   "source": [
    "from sklearn.ensemble import GradientBoostingClassifier\n",
    "model_gb = GradientBoostingClassifier()\n",
    "model_gb.fit(X_train, y_train)\n",
    "gbpred = gb.predict(X_test)\n"
   ]
  },
  {
   "cell_type": "code",
   "execution_count": 99,
   "metadata": {},
   "outputs": [
    {
     "name": "stdout",
     "output_type": "stream",
     "text": [
      "0.9150530262933009\n"
     ]
    }
   ],
   "source": [
    "#Accuracy:\n",
    "\n",
    "score = (cross_val_score(model_gb, X_train, y_train, cv=10, n_jobs=1, scoring = 'accuracy').mean())\n",
    "print(score)"
   ]
  },
  {
   "cell_type": "code",
   "execution_count": 100,
   "metadata": {},
   "outputs": [
    {
     "data": {
      "image/png": "[encoded data removed]",
      "text/plain": [
       "<Figure size 432x288 with 1 Axes>"
      ]
     },
     "metadata": {},
     "output_type": "display_data"
    }
   ],
   "source": [
    "fprgbk, tprgbk, thresholdgbk = metrics.roc_curve(y_test, gbpred)\n",
    "\n",
    "roc_aucgbk = metrics.auc(fprgbk, tprgbk)\n",
    "\n",
    "plt.plot(fprgbk, tprgbk, 'b', label = 'AUC = %0.2f' % roc_aucgbk)\n",
    "plt.plot([0, 1], [0, 1],'r--')\n",
    "plt.title('ROC curve for Gradient Boosting ',fontsize=10)\n",
    "plt.ylabel('True Positive Rate',fontsize=20)\n",
    "plt.xlabel('False Positive Rate',fontsize=15)\n",
    "plt.legend(loc = 'lower right', prop={'size': 16})\n",
    "\n",
    "plt.show()"
   ]
  },
  {
   "cell_type": "code",
   "execution_count": 120,
   "metadata": {},
   "outputs": [
    {
     "name": "stdout",
     "output_type": "stream",
     "text": [
      " Performance Metrics Reports\n",
      "               precision    recall  f1-score   support\n",
      "\n",
      "           0       0.94      0.96      0.95      7267\n",
      "           1       0.66      0.53      0.59       971\n",
      "\n",
      "   micro avg       0.91      0.91      0.91      8238\n",
      "   macro avg       0.80      0.75      0.77      8238\n",
      "weighted avg       0.91      0.91      0.91      8238\n",
      "\n"
     ]
    }
   ],
   "source": [
    "print(' Performance Metrics Reports\\n',classification_report(y_test, gbpred))"
   ]
  },
  {
   "cell_type": "markdown",
   "metadata": {},
   "source": [
    "## Random Forest is another ensemble model\n",
    "\n",
    "Classifies the data set by taking a majority vote of each leaf value"
   ]
  },
  {
   "cell_type": "code",
   "execution_count": 121,
   "metadata": {},
   "outputs": [],
   "source": [
    "from sklearn.ensemble import RandomForestClassifier\n",
    "model_rf = RandomForestClassifier(n_estimators = 200)#criterion = entopy,gini\n",
    "model_rf.fit(X_train, y_train)\n",
    "rfpred = model_rf.predict(X_test)\n"
   ]
  },
  {
   "cell_type": "code",
   "execution_count": 128,
   "metadata": {},
   "outputs": [
    {
     "name": "stdout",
     "output_type": "stream",
     "text": [
      "91.0\n"
     ]
    }
   ],
   "source": [
    "#Accuracy \n",
    "print(round(accuracy_score(y_test, rfpred),2)*100)"
   ]
  },
  {
   "cell_type": "code",
   "execution_count": 126,
   "metadata": {},
   "outputs": [
    {
     "name": "stdout",
     "output_type": "stream",
     "text": [
      " Performance Metrics Reports\n",
      "               precision    recall  f1-score   support\n",
      "\n",
      "           0       0.94      0.96      0.95      7267\n",
      "           1       0.63      0.51      0.57       971\n",
      "\n",
      "   micro avg       0.91      0.91      0.91      8238\n",
      "   macro avg       0.78      0.74      0.76      8238\n",
      "weighted avg       0.90      0.91      0.90      8238\n",
      "\n"
     ]
    }
   ],
   "source": [
    "print(' Performance Metrics Reports\\n',classification_report(y_test, rfpred))"
   ]
  },
  {
   "cell_type": "code",
   "execution_count": 130,
   "metadata": {},
   "outputs": [
    {
     "data": {
      "image/png": "[encoded data removed]",
      "text/plain": [
       "<Figure size 432x288 with 1 Axes>"
      ]
     },
     "metadata": {},
     "output_type": "display_data"
    }
   ],
   "source": [
    "fprgbk, tprgbk, thresholdgbk = metrics.roc_curve(y_test, rfpred)\n",
    "\n",
    "roc_aucgbk = metrics.auc(fprgbk, tprgbk)\n",
    "\n",
    "plt.plot(fprgbk, tprgbk, 'b', label = 'AUC = %0.2f' % roc_aucgbk)\n",
    "plt.plot([0, 1], [0, 1],'r--')\n",
    "plt.title('ROC curve for Random Forest ',fontsize=10)\n",
    "plt.ylabel('True Positive Rate',fontsize=20)\n",
    "plt.xlabel('False Positive Rate',fontsize=15)\n",
    "plt.legend(loc = 'lower right', prop={'size': 16})\n",
    "\n",
    "plt.show()"
   ]
  },
  {
   "cell_type": "markdown",
   "metadata": {},
   "source": [
    "\n",
    "\n",
    "## Ensemble learning algorithms combine different ML to cancel out their individual weakness\n",
    "\n",
    "Our winner ensemble model is Gradient Boosting.\n",
    "\n",
    "Ensemble learning are stable and well-performing and therefore they are most popular in machine learning competitions and industrial applications.\n"
   ]
  },
  {
   "cell_type": "code",
   "execution_count": null,
   "metadata": {},
   "outputs": [],
   "source": []
  }
 ],
 "metadata": {
  "kernelspec": {
   "display_name": "Python 3",
   "language": "python",
   "name": "python3"
  },
  "language_info": {
   "codemirror_mode": {
    "name": "ipython",
    "version": 3
   },
   "file_extension": ".py",
   "mimetype": "text/x-python",
   "name": "python",
   "nbconvert_exporter": "python",
   "pygments_lexer": "ipython3",
   "version": "3.7.3"
  }
 },
 "nbformat": 4,
 "nbformat_minor": 2
}
